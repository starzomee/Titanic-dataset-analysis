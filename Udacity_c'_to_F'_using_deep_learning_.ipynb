{
  "nbformat": 4,
  "nbformat_minor": 0,
  "metadata": {
    "colab": {
      "provenance": [],
      "gpuType": "T4",
      "authorship_tag": "ABX9TyMW4vXc7PP7EL6Vn67MkO7g",
      "include_colab_link": true
    },
    "kernelspec": {
      "name": "python3",
      "display_name": "Python 3"
    },
    "language_info": {
      "name": "python"
    }
  },
  "cells": [
    {
      "cell_type": "markdown",
      "metadata": {
        "id": "view-in-github",
        "colab_type": "text"
      },
      "source": [
        "<a href=\"https://colab.research.google.com/github/starzomee/Titanic-dataset-analysis/blob/main/Udacity_c'_to_F'_using_deep_learning_.ipynb\" target=\"_parent\"><img src=\"https://colab.research.google.com/assets/colab-badge.svg\" alt=\"Open In Colab\"/></a>"
      ]
    },
    {
      "cell_type": "code",
      "execution_count": 1,
      "metadata": {
        "id": "TrCJjDcjb3qG"
      },
      "outputs": [],
      "source": [
        "def function(C = 8):\n",
        "  F = C * 1.8 + 32\n",
        "  return F\n",
        ""
      ]
    },
    {
      "cell_type": "code",
      "source": [
        "import tensorflow as tf\n",
        "import numpy as np\n",
        "\n",
        "# Set the logging verbosity for TensorFlow\n",
        "tf.get_logger().setLevel('ERROR')\n",
        "\n",
        "# Rest of your code\n",
        "# ...\n"
      ],
      "metadata": {
        "id": "i76HN5HagcTT"
      },
      "execution_count": 2,
      "outputs": []
    },
    {
      "cell_type": "code",
      "source": [
        "celsius_q  = np.array([-40 , -10 , 0 , 8 , 15 , 22 , 38 ] , dtype = float )\n",
        "fahrenheit_a =np.array([-40 , 14 , 32 , 46 , 59 , 74 , 100 ] , dtype = float)\n",
        "for i , c in enumerate(celsius_q ):\n",
        "  print(\"{} degree celsius = {} degree fahrenheit\".format(c , fahrenheit_a[i]))\n",
        "\n"
      ],
      "metadata": {
        "colab": {
          "base_uri": "https://localhost:8080/"
        },
        "id": "agjqdLDPnwV4",
        "outputId": "8624a95f-6323-4f49-c75c-a68a6ce513eb"
      },
      "execution_count": 3,
      "outputs": [
        {
          "output_type": "stream",
          "name": "stdout",
          "text": [
            "-40.0 degree celsius = -40.0 degree fahrenheit\n",
            "-10.0 degree celsius = 14.0 degree fahrenheit\n",
            "0.0 degree celsius = 32.0 degree fahrenheit\n",
            "8.0 degree celsius = 46.0 degree fahrenheit\n",
            "15.0 degree celsius = 59.0 degree fahrenheit\n",
            "22.0 degree celsius = 74.0 degree fahrenheit\n",
            "38.0 degree celsius = 100.0 degree fahrenheit\n"
          ]
        }
      ]
    },
    {
      "cell_type": "code",
      "source": [
        "l0 = tf.keras.layers.Dense(units=1, input_shape=[1])\n",
        "model = tf.keras.Sequential([l0])\n",
        "model.compile(loss='mean_squared_error', optimizer=tf.keras.optimizers.Adam(0.1))\n",
        "history = model.fit(celsius_q, fahrenheit_a, epochs=500, verbose=False)\n",
        "model.predict([100.0])"
      ],
      "metadata": {
        "colab": {
          "base_uri": "https://localhost:8080/"
        },
        "id": "NdpX5fcxqV2_",
        "outputId": "0a73dbf5-d192-432e-8a29-6067a3ced5c0"
      },
      "execution_count": 5,
      "outputs": [
        {
          "output_type": "stream",
          "name": "stdout",
          "text": [
            "1/1 [==============================] - 0s 315ms/step\n"
          ]
        },
        {
          "output_type": "execute_result",
          "data": {
            "text/plain": [
              "array([[212.42775]], dtype=float32)"
            ]
          },
          "metadata": {},
          "execution_count": 5
        }
      ]
    },
    {
      "cell_type": "code",
      "source": [],
      "metadata": {
        "id": "k4nvsxHpsX67"
      },
      "execution_count": null,
      "outputs": []
    }
  ]
}